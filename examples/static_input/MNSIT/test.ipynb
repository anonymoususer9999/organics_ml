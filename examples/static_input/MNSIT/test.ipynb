{
 "cells": [
  {
   "cell_type": "code",
   "execution_count": 22,
   "metadata": {},
   "outputs": [],
   "source": [
    "import torch\n",
    "import torch.nn.functional as F"
   ]
  },
  {
   "cell_type": "code",
   "execution_count": 33,
   "metadata": {},
   "outputs": [
    {
     "name": "stdout",
     "output_type": "stream",
     "text": [
      "torch.Size([100, 3, 3])\n",
      "tensor([ 2.5693,  1.8255, -0.4162])\n"
     ]
    }
   ],
   "source": [
    "batch = 100\n",
    "N = 3\n",
    "Wr = torch.randn(N, N)\n",
    "b = torch.randn(batch, N)\n",
    "a = torch.randn(batch, N)\n",
    "A = torch.eye(N) - Wr + torch.diag_embed(a) @ Wr\n",
    "\n",
    "print(A.shape)\n",
    "\n",
    "soln = torch.linalg.solve(A, b)\n",
    "print(soln[0, :])"
   ]
  },
  {
   "cell_type": "code",
   "execution_count": 34,
   "metadata": {},
   "outputs": [
    {
     "name": "stdout",
     "output_type": "stream",
     "text": [
      "tensor([ 2.5693,  1.8255, -0.4162])\n"
     ]
    }
   ],
   "source": [
    "# This is what is desired\n",
    "batch_idx = 0\n",
    "b1 = b[batch_idx, :]\n",
    "a1 = a[batch_idx, :]\n",
    "A1 = (torch.eye(N) - Wr + torch.diag(a1) @ Wr)\n",
    "print(torch.linalg.solve(A1, b1))"
   ]
  },
  {
   "cell_type": "code",
   "execution_count": 31,
   "metadata": {},
   "outputs": [
    {
     "data": {
      "text/plain": [
       "tensor([[-0.4853,  0.0521,  1.3268],\n",
       "        [-0.4169,  0.2515, -0.0754],\n",
       "        [-1.1647,  0.2337,  0.2233]])"
      ]
     },
     "execution_count": 31,
     "metadata": {},
     "output_type": "execute_result"
    }
   ],
   "source": [
    "torch.diag(a1) @ Wr"
   ]
  },
  {
   "cell_type": "code",
   "execution_count": 32,
   "metadata": {},
   "outputs": [
    {
     "data": {
      "text/plain": [
       "tensor([[-0.4853, -1.2070, -0.9957],\n",
       "        [ 0.0180,  0.2515,  0.0690],\n",
       "        [ 1.5520, -0.2554,  0.2233]])"
      ]
     },
     "execution_count": 32,
     "metadata": {},
     "output_type": "execute_result"
    }
   ],
   "source": [
    "F.linear(torch.diag_embed(a), Wr)[0]"
   ]
  },
  {
   "cell_type": "code",
   "execution_count": null,
   "metadata": {},
   "outputs": [],
   "source": []
  }
 ],
 "metadata": {
  "kernelspec": {
   "display_name": "Python 3",
   "language": "python",
   "name": "python3"
  },
  "language_info": {
   "codemirror_mode": {
    "name": "ipython",
    "version": 3
   },
   "file_extension": ".py",
   "mimetype": "text/x-python",
   "name": "python",
   "nbconvert_exporter": "python",
   "pygments_lexer": "ipython3",
   "version": "3.10.12"
  }
 },
 "nbformat": 4,
 "nbformat_minor": 2
}
