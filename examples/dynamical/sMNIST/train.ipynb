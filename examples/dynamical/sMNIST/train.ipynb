{
 "cells": [
  {
   "cell_type": "code",
   "execution_count": 1,
   "metadata": {},
   "outputs": [
    {
     "name": "stdout",
     "output_type": "stream",
     "text": [
      "Number of CPUs available:  12\n"
     ]
    }
   ],
   "source": [
    "import torch\n",
    "import pytorch_lightning as pl\n",
    "from model import rnn\n",
    "import os\n",
    "from dataset import MnistDataModule\n",
    "import default_config as config\n",
    "from pytorch_lightning.callbacks import EarlyStopping\n",
    "from pytorch_lightning.callbacks import ModelCheckpoint\n",
    "from pytorch_lightning.callbacks import LearningRateMonitor\n",
    "from pytorch_lightning.loggers import TensorBoardLogger\n",
    "from pytorch_lightning.profilers import PyTorchProfiler\n",
    "\n",
    "torch.set_float32_matmul_precision(\"medium\")\n",
    "\n",
    "print(\"Number of CPUs available: \", torch.get_num_threads())"
   ]
  },
  {
   "cell_type": "code",
   "execution_count": 2,
   "metadata": {},
   "outputs": [],
   "source": [
    "# Additional RNN cell configurations\n",
    "kwargs_dict = {\n",
    "    \"Wr_identity\": False,\n",
    "    \"learn_tau\": True,\n",
    "    \"dt_tau_max_y\": 0.03,\n",
    "    \"dt_tau_max_a\": 0.01,\n",
    "    \"dt_tau_max_b\": 0.1,\n",
    "}\n",
    "# kwargs_dict = {}"
   ]
  },
  {
   "cell_type": "code",
   "execution_count": 3,
   "metadata": {},
   "outputs": [],
   "source": [
    "# change the accellerator to cpu for pixel by pixel mnist\n",
    "# config.ACCELERATOR = \"cpu\"\n",
    "# config.DEVICES = 1\n",
    "config.RESIZE = 1.0\n",
    "config.INPUT_SIZE = 1\n",
    "config.SEQUENCE_LENGTH = 784\n",
    "config.LEARNING_RATE = 0.01\n",
    "config.ACCELERATOR = \"gpu\"\n",
    "config.HIDDEN_SIZE = 256"
   ]
  },
  {
   "cell_type": "code",
   "execution_count": 6,
   "metadata": {},
   "outputs": [
    {
     "name": "stderr",
     "output_type": "stream",
     "text": [
      "GPU available: True (cuda), used: True\n",
      "TPU available: False, using: 0 TPU cores\n",
      "IPU available: False, using: 0 IPUs\n",
      "HPU available: False, using: 0 HPUs\n"
     ]
    }
   ],
   "source": [
    "start_from_checkpoint = False\n",
    "model_name = \"sMNIST_pixel_by_pixel_test\"\n",
    "folder_name = \"tb_logs_pixel\"\n",
    "# model_name = \"sMNIST_normal\"\n",
    "logger = TensorBoardLogger(folder_name, name=model_name)\n",
    "# profiler = PyTorchProfiler(\n",
    "#     on_trace_ready=torch.profiler.tensorboard_trace_handler(f\"{folder_name}/profiler0\"),\n",
    "#     schedule=torch.profiler.schedule(skip_first=10, wait=1, warmup=1, active=20),\n",
    "# )\n",
    "dm = MnistDataModule(\n",
    "    data_dir=config.DATA_DIR,\n",
    "    batch_size=config.BATCH_SIZE,\n",
    "    num_workers=config.NUM_WORKERS,\n",
    "    permuted=config.PERMUTED,\n",
    "    resize=config.RESIZE,\n",
    ")\n",
    "model = rnn(\n",
    "    input_size=config.INPUT_SIZE,\n",
    "    hidden_size=config.HIDDEN_SIZE,\n",
    "    seq_length=config.SEQUENCE_LENGTH,\n",
    "    learning_rate=config.LEARNING_RATE,\n",
    "    scheduler_change_step=config.SCHEDULER_CHANGE_STEP,\n",
    "    scheduler_gamma=config.SCHEDULER_GAMMA,\n",
    "    num_classes=config.NUM_CLASSES, \n",
    "    kwargs_dict=kwargs_dict,\n",
    ")\n",
    "trainer = pl.Trainer(\n",
    "    profiler=None,\n",
    "    logger=logger,\n",
    "    accelerator=config.ACCELERATOR,\n",
    "    callbacks=[LearningRateMonitor(logging_interval='epoch'),\n",
    "               ModelCheckpoint(save_top_k=-1, every_n_epochs=1)],\n",
    "    devices=config.DEVICES,\n",
    "    min_epochs=1,\n",
    "    max_epochs=2,\n",
    "    precision=config.PRECISION\n",
    ")"
   ]
  },
  {
   "cell_type": "code",
   "execution_count": 7,
   "metadata": {},
   "outputs": [
    {
     "name": "stderr",
     "output_type": "stream",
     "text": [
      "LOCAL_RANK: 0 - CUDA_VISIBLE_DEVICES: [0]\n",
      "\n",
      "  | Name     | Type               | Params\n",
      "------------------------------------------------\n",
      "0 | org      | rnnCell            | 395 K \n",
      "1 | fc       | Linear             | 2.6 K \n",
      "2 | loss_fn  | CrossEntropyLoss   | 0     \n",
      "3 | accuracy | MulticlassAccuracy | 0     \n",
      "4 | f1_score | MulticlassF1Score  | 0     \n",
      "------------------------------------------------\n",
      "397 K     Trainable params\n",
      "512       Non-trainable params\n",
      "397 K     Total params\n",
      "1.591     Total estimated model params size (MB)\n"
     ]
    },
    {
     "data": {
      "application/vnd.jupyter.widget-view+json": {
       "model_id": "683a24fbd46b44f9a6ef67aaabadbdd4",
       "version_major": 2,
       "version_minor": 0
      },
      "text/plain": [
       "Sanity Checking: |          | 0/? [00:00<?, ?it/s]"
      ]
     },
     "metadata": {},
     "output_type": "display_data"
    },
    {
     "data": {
      "application/vnd.jupyter.widget-view+json": {
       "model_id": "e872cdd861084196bccd68af77cf0097",
       "version_major": 2,
       "version_minor": 0
      },
      "text/plain": [
       "Training: |          | 0/? [00:00<?, ?it/s]"
      ]
     },
     "metadata": {},
     "output_type": "display_data"
    },
    {
     "data": {
      "application/vnd.jupyter.widget-view+json": {
       "model_id": "3dc72ff4e15b4b3ca66e861f444e7df7",
       "version_major": 2,
       "version_minor": 0
      },
      "text/plain": [
       "Validation: |          | 0/? [00:00<?, ?it/s]"
      ]
     },
     "metadata": {},
     "output_type": "display_data"
    },
    {
     "data": {
      "application/vnd.jupyter.widget-view+json": {
       "model_id": "44c8c7c5146d476bb684c0203a13abf9",
       "version_major": 2,
       "version_minor": 0
      },
      "text/plain": [
       "Validation: |          | 0/? [00:00<?, ?it/s]"
      ]
     },
     "metadata": {},
     "output_type": "display_data"
    },
    {
     "name": "stderr",
     "output_type": "stream",
     "text": [
      "`Trainer.fit` stopped: `max_epochs=2` reached.\n"
     ]
    }
   ],
   "source": [
    "if start_from_checkpoint:\n",
    "    version = 1\n",
    "    checkpoint_folder = f'{folder_name}/{model_name}/version_{version}/checkpoints/'\n",
    "    checkpoint_files = os.listdir(checkpoint_folder)\n",
    "    epoch_idx = [int(file.split('epoch=')[1].split('-')[0]) for file in checkpoint_files]\n",
    "    max_idx = epoch_idx.index(max(epoch_idx))\n",
    "    checkpoint_path = os.path.join(checkpoint_folder, checkpoint_files[max_idx])\n",
    "    trainer.fit(model, dm, ckpt_path=checkpoint_path)\n",
    "else:\n",
    "    trainer.fit(model, dm)\n",
    "# trainer.validate(model, dm)\n",
    "# trainer.test(model, dm)"
   ]
  },
  {
   "cell_type": "code",
   "execution_count": 8,
   "metadata": {},
   "outputs": [
    {
     "name": "stderr",
     "output_type": "stream",
     "text": [
      "LOCAL_RANK: 0 - CUDA_VISIBLE_DEVICES: [0]\n"
     ]
    },
    {
     "data": {
      "application/vnd.jupyter.widget-view+json": {
       "model_id": "ec2fb8ceb7ac4a398ac93c2cd90df828",
       "version_major": 2,
       "version_minor": 0
      },
      "text/plain": [
       "Testing: |          | 0/? [00:00<?, ?it/s]"
      ]
     },
     "metadata": {},
     "output_type": "display_data"
    },
    {
     "name": "stdout",
     "output_type": "stream",
     "text": [
      "────────────────────────────────────────────────────────────────────────────────────────────────────────────────────────\n",
      "       Test metric             DataLoader 0\n",
      "────────────────────────────────────────────────────────────────────────────────────────────────────────────────────────\n",
      "        test_acc            0.7231000065803528\n",
      "         test_f1            0.7231000065803528\n",
      "        test_loss           0.8231350779533386\n",
      "────────────────────────────────────────────────────────────────────────────────────────────────────────────────────────\n"
     ]
    },
    {
     "data": {
      "text/plain": [
       "[{'test_acc': 0.7231000065803528,\n",
       "  'test_f1': 0.7231000065803528,\n",
       "  'test_loss': 0.8231350779533386}]"
      ]
     },
     "execution_count": 8,
     "metadata": {},
     "output_type": "execute_result"
    }
   ],
   "source": [
    "trainer.test(model, dm)"
   ]
  },
  {
   "cell_type": "code",
   "execution_count": null,
   "metadata": {},
   "outputs": [],
   "source": []
  }
 ],
 "metadata": {
  "kernelspec": {
   "display_name": "feed-r-conda",
   "language": "python",
   "name": "feed-r-conda"
  },
  "language_info": {
   "codemirror_mode": {
    "name": "ipython",
    "version": 3
   },
   "file_extension": ".py",
   "mimetype": "text/x-python",
   "name": "python",
   "nbconvert_exporter": "python",
   "pygments_lexer": "ipython3",
   "version": "3.10.12"
  }
 },
 "nbformat": 4,
 "nbformat_minor": 2
}
